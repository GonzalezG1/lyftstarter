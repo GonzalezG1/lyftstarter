{
 "cells": [
  {
   "cell_type": "markdown",
   "metadata": {},
   "source": [
    "# ACM + Lyft HackNight - Python Starter Notebook"
   ]
  },
  {
   "cell_type": "markdown",
   "metadata": {},
   "source": [
    "<strong>Prompt:</strong> In a city of only taxis from the Bauer Taxi Service, your team is put in charge to earn Lyft more business and win riders over. The ACM Executive team has provided you with this starter notebook, which showcases how you can utilize the RESTful API that has 5 public endpoints that you can make calls to. These endpoints are listed below:\n",
    "\n",
    "<ul>\n",
    "    <li><strong>/time:</strong> GET</li>\n",
    "        <ul>\n",
    "            <li>Returns the simulation period you are developing your pricing model for.</li>\n",
    "        </ul>\n",
    "    <li><strong>/trips:</strong> GET</li>\n",
    "        <ul>\n",
    "            <li>Returns the taxi trips that occured with the criterion specified.</li>\n",
    "        </ul>\n",
    "    <li><strong>/count:</strong> GET</li>\n",
    "        <ul>\n",
    "            <li>Returns the total amount of trips that occured during a certain time period.</li>\n",
    "        </ul>\n",
    "    <li><strong>/pricing:</strong> POST</li>\n",
    "        <ul>\n",
    "            <li>Submits your team's general pricing strategy.</li>\n",
    "        </ul>\n",
    "    <li><strong>/zones:</strong> POST</li>\n",
    "        <ul>\n",
    "            <li>Submits the second component of your pricing strategy: the areas you believe are power zones.</li>\n",
    "        </ul>\n",
    "</ul>\n",
    "\n",
    "<strong>Game Overview:</strong> There are 5 simple steps you need to follow to succeed this HackNight!\n",
    "<ol>\n",
    "    <li>Wait for a \"simulation\" (access to taxi data of a specific week and prior)</li>\n",
    "    <li>Use the endpoints with associated GET requests to do data analysis to develop your pricing model.</li>\n",
    "    <li>Submit your pricing model</li>\n",
    "    <li>View your revenue generated (the results) on the diagram shown at the end of each simulation.</li>\n",
    "    <li>Repeat this process for every simulation</li>\n",
    "</ol>"
   ]
  },
  {
   "cell_type": "markdown",
   "metadata": {},
   "source": [
    "## Learning Objective: Using a RESTful API"
   ]
  },
  {
   "cell_type": "markdown",
   "metadata": {},
   "source": [
    "An API (Application Programming Interface) is a set of methods that controls the access a programmer has to what they want to reach (in this case, the taxi dataset). Here, the Lyft HackNight API limits access to taxi data by bounding it to the simulation. What does this mean? It means that you can only access taxi data of a certain date or date range when it is within the simulation date range or prior.\n",
    "\n",
    "Now, let's get started with set up process."
   ]
  },
  {
   "cell_type": "markdown",
   "metadata": {},
   "source": [
    "### Initial Setup and Imports"
   ]
  },
  {
   "cell_type": "code",
   "execution_count": 4,
   "metadata": {
    "collapsed": true
   },
   "outputs": [],
   "source": [
    "# Required imports\n",
    "import requests # Python's go-to HTTP request library\n",
    "from datetime import datetime"
   ]
  },
  {
   "cell_type": "code",
   "execution_count": 5,
   "metadata": {
    "collapsed": false
   },
   "outputs": [],
   "source": [
    "# Environment and other variables for the API to know who you are\n",
    "URL = \"http://localhost:8080\"\n",
    "TEAM = \"team4\""
   ]
  },
  {
   "cell_type": "markdown",
   "metadata": {},
   "source": [
    "### Our first GET request: /time"
   ]
  },
  {
   "cell_type": "markdown",
   "metadata": {},
   "source": [
    "Format of a GET request with Python's request library:\n",
    "\n",
    "requests.get(SERVER_URL + \"/ENDPOINT_NAME/\", params=\"{QUERY HERE}).json()"
   ]
  },
  {
   "cell_type": "code",
   "execution_count": 13,
   "metadata": {
    "collapsed": false
   },
   "outputs": [
    {
     "data": {
      "text/plain": [
       "{'message': 'The simulation is not over, the time is 10/1/2017.',\n",
       " 'sucess': True,\n",
       " 'time': 1506834000000}"
      ]
     },
     "execution_count": 13,
     "metadata": {},
     "output_type": "execute_result"
    }
   ],
   "source": [
    "requests.get(URL + \"/time/\").json()"
   ]
  },
  {
   "cell_type": "markdown",
   "metadata": {},
   "source": [
    "Note that the /time endpoint doesn't take any parameters, so there's no need to specify \"params\" in the method call. However, in the /trips endpoint below, we'll do just that."
   ]
  },
  {
   "cell_type": "markdown",
   "metadata": {},
   "source": [
    "### /trips endpoint"
   ]
  },
  {
   "cell_type": "markdown",
   "metadata": {},
   "source": [
    "The /trips endpoint allows us to find all trips that have occured in a specific time range. Note, however, that you can only search for trips that happen in the current simulation. We don't want you to predict the future!\n",
    "\n",
    "<strong>Endpoint: /trips</strong>\n",
    "<ul>\n",
    "    <li>team (str): the string name of your team as indicated in the \"TEAM\" variable above</li>\n",
    "    <li>start (str): the date and time you want to start searching from, in format %m/%d/%Y %H:%M A/PM</li>\n",
    "        <ul>\n",
    "            <li>Example: \"10/07/2017 5:00PM\"</li>\n",
    "        </ul>\n",
    "    <li>end (str): the date and time you want to end the search on, in format %m/%d/%Y %H:%M A/PM</li>\n",
    "    <li>limit (int): maximum number of results to return</li>\n",
    "    <li>offset (int): indicates you only want to receive data points past this index</li>\n",
    "</ul>"
   ]
  },
  {
   "cell_type": "code",
   "execution_count": 32,
   "metadata": {
    "collapsed": false
   },
   "outputs": [
    {
     "data": {
      "text/plain": [
       "{'length': 1,\n",
       " 'response': [{'company': 'Bauer Taxi Service',\n",
       "   'dropoff_centroid_latitude': '41.877406123',\n",
       "   'dropoff_centroid_longitude': '-87.621971652',\n",
       "   'dropoff_community_area': '32',\n",
       "   'entry_idx': 0,\n",
       "   'extras': '0',\n",
       "   'fare': '4.75',\n",
       "   'pickup_centroid_latitude': '41.877406123',\n",
       "   'pickup_centroid_longitude': '-87.621971652',\n",
       "   'pickup_community_area': '32',\n",
       "   'taxi_id': '52789c130fe640cb73a4081eca9872f696ab63daa15effcd8b74739e40609b524f1dad55ea7b820852285b3ebffe00b626a93fae3751e9086f6e1c74ccc76e91',\n",
       "   'tips': '0',\n",
       "   'tolls': '0',\n",
       "   'trip_end_timestamp': '2017-09-10T09:15:00',\n",
       "   'trip_id': '0007c73adceba3169364c89a8ad2b2073530acf3',\n",
       "   'trip_miles': '0.5',\n",
       "   'trip_seconds': '240',\n",
       "   'trip_start_timestamp': '2017-09-10T09:15:00',\n",
       "   'trip_total': '4.75'}],\n",
       " 'success': True}"
      ]
     },
     "execution_count": 32,
     "metadata": {},
     "output_type": "execute_result"
    }
   ],
   "source": [
    "# Build the query\n",
    "trips_query = {\n",
    "    \"team\": TEAM,\n",
    "    \"start\": \"9/10/2017 2:00 PM\",\n",
    "    \"end\": \"9/10/2017 3:00 PM\",\n",
    "    \"limit\": 1\n",
    "}\n",
    "\n",
    "# Send the request\n",
    "trips_response = requests.get(URL + \"/trips/\", params=trips_query).json()\n",
    "trips_response"
   ]
  },
  {
   "cell_type": "markdown",
   "metadata": {},
   "source": [
    "The JSON (Javascript Object Notation) object we got back from our call to /trips is 1 ride that occured from 2:00 - 3:00PM. In Python, this JSON object is interpreted as a dictionary. <strong>We care about the \"response\" key.</strong> To retrieve the response, we simply use Python's dictionary bracket notation, which will give us the datapoint we want."
   ]
  },
  {
   "cell_type": "code",
   "execution_count": 27,
   "metadata": {
    "collapsed": false
   },
   "outputs": [
    {
     "data": {
      "text/plain": [
       "[{'company': 'Bauer Taxi Service',\n",
       "  'dropoff_centroid_latitude': '41.877406123',\n",
       "  'dropoff_centroid_longitude': '-87.621971652',\n",
       "  'dropoff_community_area': '32',\n",
       "  'entry_idx': 0,\n",
       "  'extras': '0',\n",
       "  'fare': '4.75',\n",
       "  'pickup_centroid_latitude': '41.877406123',\n",
       "  'pickup_centroid_longitude': '-87.621971652',\n",
       "  'pickup_community_area': '32',\n",
       "  'taxi_id': '52789c130fe640cb73a4081eca9872f696ab63daa15effcd8b74739e40609b524f1dad55ea7b820852285b3ebffe00b626a93fae3751e9086f6e1c74ccc76e91',\n",
       "  'tips': '0',\n",
       "  'tolls': '0',\n",
       "  'trip_end_timestamp': '2017-09-10T09:15:00',\n",
       "  'trip_id': '0007c73adceba3169364c89a8ad2b2073530acf3',\n",
       "  'trip_miles': '0.5',\n",
       "  'trip_seconds': '240',\n",
       "  'trip_start_timestamp': '2017-09-10T09:15:00',\n",
       "  'trip_total': '4.75'}]"
      ]
     },
     "execution_count": 27,
     "metadata": {},
     "output_type": "execute_result"
    }
   ],
   "source": [
    "# Gives us a list of the taxi rides that fits the criterion we wanted. Only one in here since we set limit = 1.\n",
    "trips_response[\"response\"]"
   ]
  },
  {
   "cell_type": "markdown",
   "metadata": {},
   "source": [
    "#### get_trips(query) method"
   ]
  },
  {
   "cell_type": "markdown",
   "metadata": {},
   "source": [
    "Since your goal is to look at many different taxi rides, we want to simplify things by creating a method that just takes in the query we want to process. To do this, we simply put the repeated information inside of the method that *wraps* the the actual GET request."
   ]
  },
  {
   "cell_type": "code",
   "execution_count": 28,
   "metadata": {
    "collapsed": true
   },
   "outputs": [],
   "source": [
    "def get_trips(query):\n",
    "    query[\"team\"] = TEAM\n",
    "    response = requests.get(URL + \"/trips/\", params=query)\n",
    "    return response.json()"
   ]
  },
  {
   "cell_type": "code",
   "execution_count": 57,
   "metadata": {
    "collapsed": false
   },
   "outputs": [
    {
     "data": {
      "text/plain": [
       "{'length': 4,\n",
       " 'response': [{'company': 'Bauer Taxi Service',\n",
       "   'dropoff_centroid_latitude': '41.980264315',\n",
       "   'dropoff_centroid_longitude': '-87.913624596',\n",
       "   'dropoff_community_area': '76',\n",
       "   'entry_idx': 0,\n",
       "   'extras': '0',\n",
       "   'fare': '43.5',\n",
       "   'pickup_centroid_latitude': '41.980264315',\n",
       "   'pickup_centroid_longitude': '-87.913624596',\n",
       "   'pickup_community_area': '76',\n",
       "   'taxi_id': 'a3bc50ed4e7b5de8e74d56919ae6e14b91e33c63c6c7d9632165c99dd1781507f170419466c56588531ed4788c84cabc34a62efd4834750e7ae2753c3667fc1d',\n",
       "   'tips': '0',\n",
       "   'tolls': '0',\n",
       "   'trip_end_timestamp': '2017-09-09T23:00:00',\n",
       "   'trip_id': '007bcf68e2b126700ca88588bc4531e86ddef63f',\n",
       "   'trip_miles': '17.6',\n",
       "   'trip_seconds': '1380',\n",
       "   'trip_start_timestamp': '2017-09-09T22:45:00',\n",
       "   'trip_total': '43.5'},\n",
       "  {'company': 'Bauer Taxi Service',\n",
       "   'dropoff_centroid_latitude': '41.892658108',\n",
       "   'dropoff_centroid_longitude': '-87.652534484',\n",
       "   'dropoff_community_area': '24',\n",
       "   'entry_idx': 1,\n",
       "   'extras': '1',\n",
       "   'fare': '7.5',\n",
       "   'pickup_centroid_latitude': '41.892042136',\n",
       "   'pickup_centroid_longitude': '-87.63186395',\n",
       "   'pickup_community_area': '8',\n",
       "   'taxi_id': 'b6881e07d2abb8b6adb5a0962079be3ed8f197afc8127ef92b1043009a8c6c9df3f7bd1db762096dacc215ff9c3b18ed590fbc53f4a086f5846861a04d2bc23c',\n",
       "   'tips': '0',\n",
       "   'tolls': '0',\n",
       "   'trip_end_timestamp': '2017-09-09T22:45:00',\n",
       "   'trip_id': '00d9e4dd99bbedb9dfa4fa2f65626b6e54d62f67',\n",
       "   'trip_miles': '1.6',\n",
       "   'trip_seconds': '420',\n",
       "   'trip_start_timestamp': '2017-09-09T22:45:00',\n",
       "   'trip_total': '8.5'},\n",
       "  {'company': 'Bauer Taxi Service',\n",
       "   'dropoff_centroid_latitude': '41.901206994',\n",
       "   'dropoff_centroid_longitude': '-87.676355989',\n",
       "   'dropoff_community_area': '24',\n",
       "   'entry_idx': 2,\n",
       "   'extras': '0',\n",
       "   'fare': '9.5',\n",
       "   'pickup_centroid_latitude': '41.922686284',\n",
       "   'pickup_centroid_longitude': '-87.649488729',\n",
       "   'pickup_community_area': '7',\n",
       "   'taxi_id': '03ff04206908aa36178e813786dcec16b837ea115409dd7e6af385f3da1018cc0787624b155fa4431865c3bf14cdb238bf6a1f41a6986743d75abb5041f515f2',\n",
       "   'tips': '1',\n",
       "   'tolls': '0',\n",
       "   'trip_end_timestamp': '2017-09-09T23:00:00',\n",
       "   'trip_id': '011fc62a7f26e952c71fa271187186b65471a0f7',\n",
       "   'trip_miles': '2.5',\n",
       "   'trip_seconds': '600',\n",
       "   'trip_start_timestamp': '2017-09-09T22:45:00',\n",
       "   'trip_total': '10.5'},\n",
       "  {'company': 'Bauer Taxi Service',\n",
       "   'dropoff_centroid_latitude': '41.96581197',\n",
       "   'dropoff_centroid_longitude': '-87.655878786',\n",
       "   'dropoff_community_area': '3',\n",
       "   'entry_idx': 3,\n",
       "   'extras': '0',\n",
       "   'fare': '19.25',\n",
       "   'pickup_centroid_latitude': '41.899602111',\n",
       "   'pickup_centroid_longitude': '-87.633308037',\n",
       "   'pickup_community_area': '8',\n",
       "   'taxi_id': 'd5c2bc9fd5a0b38ddda78747a9d358f3f98c24f90329b4915a82253a780c754e332cccf89a9d83587a43b0341028c0e2d89dc4b6cd837b780bbc8ea43f042ed6',\n",
       "   'tips': '1',\n",
       "   'tolls': '0',\n",
       "   'trip_end_timestamp': '2017-09-09T23:00:00',\n",
       "   'trip_id': '02bb04a34d69ac71d6dde0d7eeae829076ea9121',\n",
       "   'trip_miles': '6.5',\n",
       "   'trip_seconds': '960',\n",
       "   'trip_start_timestamp': '2017-09-09T22:45:00',\n",
       "   'trip_total': '20.25'}],\n",
       " 'success': True}"
      ]
     },
     "execution_count": 57,
     "metadata": {},
     "output_type": "execute_result"
    }
   ],
   "source": [
    "# Example usage of get_trips - no need to specify the team or GET request anymore!\n",
    "get_trips({\n",
    "        \"start\": \"9/10/2017 3:45 AM\",\n",
    "        \"end\": \"9/10/2017 3:46 AM\",\n",
    "        \"limit\": 5\n",
    "    })"
   ]
  },
  {
   "cell_type": "markdown",
   "metadata": {},
   "source": [
    "#### Sending SQL queries"
   ]
  },
  {
   "cell_type": "markdown",
   "metadata": {},
   "source": [
    "The GET request for /trips can accept SQL queries when passes as strings.\n",
    "\n",
    "<strong>Parameters:</strong>\n",
    "<ul>\n",
    "    <li>team</li>\n",
    "    <li>where : Indicates the SQL WHERE clause which defines the query.</li>\n",
    "    <li>limit</li>\n",
    "</ul>"
   ]
  },
  {
   "cell_type": "code",
   "execution_count": 59,
   "metadata": {
    "collapsed": false
   },
   "outputs": [
    {
     "data": {
      "text/plain": [
       "{'length': 1,\n",
       " 'response': [{'company': 'Bauer Taxi Service',\n",
       "   'dropoff_centroid_latitude': '41.899602111',\n",
       "   'dropoff_centroid_longitude': '-87.633308037',\n",
       "   'dropoff_community_area': '8',\n",
       "   'entry_idx': 0,\n",
       "   'extras': '0',\n",
       "   'fare': '13.25',\n",
       "   'pickup_centroid_latitude': '41.878865584',\n",
       "   'pickup_centroid_longitude': '-87.625192142',\n",
       "   'pickup_community_area': '32',\n",
       "   'taxi_id': '1095c5432cb9cfd88296fb166e38d560936d4690801dddfae2bbae88a2d295542548a58e8e2394de8c67c82610261281b4303ad7f0b85236f9e7c4f46badf414',\n",
       "   'tips': '0',\n",
       "   'tolls': '0',\n",
       "   'trip_end_timestamp': '2017-09-10T09:15:00',\n",
       "   'trip_id': '00197d0ae9d887315d40fb4a5a7405a062137c7d',\n",
       "   'trip_miles': '3.9',\n",
       "   'trip_seconds': '960',\n",
       "   'trip_start_timestamp': '2017-09-10T09:00:00',\n",
       "   'trip_total': '13.25'}],\n",
       " 'success': True}"
      ]
     },
     "execution_count": 59,
     "metadata": {},
     "output_type": "execute_result"
    }
   ],
   "source": [
    "get_trips({\n",
    "        \"where\": \"(trip_start_timestamp BETWEEN {9/10/2017 2:00 PM} AND {9/10/2017 3:00 PM}) AND (trip_total BETWEEN 10 AND 20)\",\n",
    "        \"limit\": 1\n",
    "})"
   ]
  },
  {
   "cell_type": "markdown",
   "metadata": {},
   "source": [
    "NOTE: Times are rounded off to every quarter hour. By specifying that you want the rides in between 3:00PM and 3:15PM, you're also getting back rides from 3:15PM to ~3:23PM. This is because the rides that happened at this time rounded down to 3:15PM.\n",
    "\n",
    "You might be asking... well, how do we parse this data? We'll take a look at that in the data analysis section."
   ]
  },
  {
   "cell_type": "markdown",
   "metadata": {},
   "source": [
    "### /count endpoint"
   ]
  },
  {
   "cell_type": "code",
   "execution_count": 43,
   "metadata": {
    "collapsed": true
   },
   "outputs": [],
   "source": [
    "def get_count(query):\n",
    "    query[\"team\"] = TEAM\n",
    "    response = requests.get(URL + \"/count/\", params=query)\n",
    "    return response.json()"
   ]
  },
  {
   "cell_type": "markdown",
   "metadata": {},
   "source": [
    "#### /count example : What if our simulation lands on New Year's?"
   ]
  },
  {
   "cell_type": "code",
   "execution_count": 55,
   "metadata": {
    "collapsed": false
   },
   "outputs": [
    {
     "name": "stdout",
     "output_type": "stream",
     "text": [
      "# of rides in 29-hour span of New Years Eve -> Day: 74162\n"
     ]
    }
   ],
   "source": [
    "# New Years\n",
    "new_years_count = get_count({\n",
    "        \"start\": \"12/31/2016 12:00 AM\",\n",
    "        \"end\": \"01/01/2017 05:00 AM\"\n",
    "    })\n",
    "print(\"# of rides in 29-hour span of New Years Eve -> Day: {}\".format(new_years_count[\"count\"]))"
   ]
  },
  {
   "cell_type": "markdown",
   "metadata": {},
   "source": [
    "## Learning Objective: Data Preprocessing and Analysis"
   ]
  },
  {
   "cell_type": "markdown",
   "metadata": {},
   "source": [
    "Before applying any data analysis to your data, it's always important to preprocess your data. This means looking for any missing values, identifying categorical variables, accounting for outlier (Y) or leverage (X) points. We'll go through the process of getting the data for a specific simulation, processing it with the stack we're familiar with (scipy), and begin some explatory data analysis on it."
   ]
  },
  {
   "cell_type": "code",
   "execution_count": null,
   "metadata": {
    "collapsed": true
   },
   "outputs": [],
   "source": []
  }
 ],
 "metadata": {
  "anaconda-cloud": {},
  "kernelspec": {
   "display_name": "Python [conda root]",
   "language": "python",
   "name": "conda-root-py"
  },
  "language_info": {
   "codemirror_mode": {
    "name": "ipython",
    "version": 3
   },
   "file_extension": ".py",
   "mimetype": "text/x-python",
   "name": "python",
   "nbconvert_exporter": "python",
   "pygments_lexer": "ipython3",
   "version": "3.5.2"
  }
 },
 "nbformat": 4,
 "nbformat_minor": 1
}
